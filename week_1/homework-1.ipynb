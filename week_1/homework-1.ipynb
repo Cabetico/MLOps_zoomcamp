{
 "cells": [
  {
   "cell_type": "code",
   "execution_count": 1,
   "id": "b7f80128-48d8-402e-974b-6ad54580e2ce",
   "metadata": {},
   "outputs": [],
   "source": [
    "import seaborn as sns\n",
    "import matplotlib.pyplot as plt"
   ]
  },
  {
   "cell_type": "code",
   "execution_count": 2,
   "id": "8aad2d49-5a21-4db6-a739-1ed32b3e0247",
   "metadata": {},
   "outputs": [],
   "source": [
    "import numpy as np\n",
    "import pandas as pd\n",
    "\n",
    "from sklearn.feature_extraction import DictVectorizer\n",
    "from sklearn.linear_model import LinearRegression\n",
    "from sklearn.linear_model import Lasso\n",
    "from sklearn.linear_model import Ridge\n",
    "\n",
    "from sklearn.metrics import mean_squared_error"
   ]
  },
  {
   "cell_type": "markdown",
   "id": "215b9a1d-e6cd-457d-9ce7-9fdbbc2bc78f",
   "metadata": {},
   "source": [
    "### Download de data from the following URLs\n",
    "\n",
    "(https://d37ci6vzurychx.cloudfront.net/trip-data/yellow_tripdata_2022-01.parquet](January-2022)\n"
   ]
  },
  {
   "cell_type": "code",
   "execution_count": 3,
   "id": "20af7ea9-9052-47d1-a2cf-c8d643769209",
   "metadata": {},
   "outputs": [],
   "source": [
    "data = pd.read_parquet('./data/yellow_tripdata_2022-01.parquet')\n",
    "\n",
    "\n",
    "def tweak_data(_df: pd.DataFrame) -> pd.DataFrame:\n",
    "\n",
    "    _df = _df.assign(\n",
    "                    **{'duration': (_df.tpep_dropoff_datetime - _df.tpep_pickup_datetime)\n",
    "                                      .apply(lambda td: td.total_seconds() / 60)}\n",
    "             )\n",
    "        \n",
    "    return _df\n",
    "\n",
    "df = tweak_data(data)\n",
    "\n",
    "#df['duration'] = df.tpep_dropoff_datetime - df.tpep_pickup_datetime\n",
    "#df.duration = df.duration.apply(lambda td: td.total_seconds() / 60)\n",
    "#df = df[(df.duration >= 1) & (df.duration <= 60)]"
   ]
  },
  {
   "cell_type": "markdown",
   "id": "f55e568d-72ea-4be2-a0dd-39e386e511f6",
   "metadata": {},
   "source": [
    "## Q1 Read the data for January. How many columns are there?\n",
    "-----\n",
    "* 16\n",
    "* 17\n",
    "* 18\n",
    "* 19"
   ]
  },
  {
   "cell_type": "code",
   "execution_count": 4,
   "id": "89688a0b-afde-4298-aaf1-95faf2ec69d4",
   "metadata": {},
   "outputs": [
    {
     "data": {
      "text/plain": [
       "(2463931, 19)"
      ]
     },
     "execution_count": 4,
     "metadata": {},
     "output_type": "execute_result"
    }
   ],
   "source": [
    "data.shape"
   ]
  },
  {
   "cell_type": "markdown",
   "id": "10702926-c6a2-4169-b84a-71d8958c484f",
   "metadata": {},
   "source": [
    "A: 19"
   ]
  },
  {
   "cell_type": "markdown",
   "id": "7295024f-7b20-48c5-b6f4-475aaf262af1",
   "metadata": {},
   "source": [
    "## Q2. Computing duration\n",
    "\n",
    "------------\n",
    "Now let's compute the `duration` variable. It should contain the duration of a ride in minutes.\n",
    "\n",
    "What's the standard deviation of the trips duration in January?\n",
    "\n",
    "* 41.45\n",
    "* 46.45\n",
    "* 51.45\n",
    "* 56.45"
   ]
  },
  {
   "cell_type": "code",
   "execution_count": 5,
   "id": "cb7d3d59-b941-4119-a655-4eec74f0cc02",
   "metadata": {},
   "outputs": [
    {
     "data": {
      "text/plain": [
       "46.44530513776499"
      ]
     },
     "execution_count": 5,
     "metadata": {},
     "output_type": "execute_result"
    }
   ],
   "source": [
    "df.duration.std()"
   ]
  },
  {
   "cell_type": "markdown",
   "id": "a40dd40a-5e8f-4996-a3e7-1cc66d7dac9c",
   "metadata": {},
   "source": [
    "A: 46.45"
   ]
  },
  {
   "cell_type": "markdown",
   "id": "e613eca0-bcba-458f-8c44-370254a74ef7",
   "metadata": {},
   "source": [
    "## Q3. Dropping outliers\n",
    "-------------------------\n",
    "Next, we need to check the distribution of the duration variable. There are some outliers. Let's remove them and keep only the records where the duration was between 1 and 60 minutes (inclusive).\n",
    "\n",
    "What fraction of the records left after you dropped the outliers?\n",
    "\n",
    "* 90%\n",
    "* 92%\n",
    "* 95%\n",
    "* 98%"
   ]
  },
  {
   "cell_type": "code",
   "execution_count": 4,
   "id": "6018c5ce-ed2c-4aff-b7af-91c1745b69eb",
   "metadata": {},
   "outputs": [],
   "source": [
    "def clean_outliers(_df: pd.DataFrame) -> pd.DataFrame:\n",
    "\n",
    "    _df = _df.loc[(_df.duration >= 1) & (_df.duration <= 60), :]\n",
    "        \n",
    "    return _df\n",
    "\n",
    "df_cleaned = clean_outliers(df)"
   ]
  },
  {
   "cell_type": "code",
   "execution_count": 5,
   "id": "5e3a7720-29ea-43c0-af1c-eb98943888a3",
   "metadata": {},
   "outputs": [
    {
     "data": {
      "text/plain": [
       "0.9827547930522406"
      ]
     },
     "execution_count": 5,
     "metadata": {},
     "output_type": "execute_result"
    }
   ],
   "source": [
    "df_cleaned.shape[0] / df.shape[0]"
   ]
  },
  {
   "cell_type": "markdown",
   "id": "4fd1687f-797a-4541-a1f6-a22473d4c71d",
   "metadata": {},
   "source": [
    "A: 98%"
   ]
  },
  {
   "cell_type": "markdown",
   "id": "71dbe81d-8cf1-4c80-940c-541b65fde917",
   "metadata": {},
   "source": [
    "Q4. One-hot encoding\n",
    "----\n",
    "Let's apply one-hot encoding to the pickup and dropoff location IDs. We'll use only these two features for our model.\n",
    "\n",
    "* Turn the dataframe into a list of dictionaries\n",
    "* Fit a dictionary vectorizer\n",
    "* Get a feature matrix from it\n",
    "\n",
    "What's the dimensionality of this matrix (number of columns)?\n",
    "\n",
    "* 2\n",
    "* 155\n",
    "* 345\n",
    "* 515\n",
    "* 715"
   ]
  },
  {
   "cell_type": "code",
   "execution_count": 6,
   "id": "d24d986d-f4e2-422e-9db8-ac58de9ea276",
   "metadata": {},
   "outputs": [],
   "source": [
    "categorical = ['PULocationID', 'DOLocationID']\n",
    "\n",
    "df_cleaned = df_cleaned \\\n",
    "                .astype({'PULocationID': 'str', 'DOLocationID': 'str'}) \\\n",
    "                .copy()\n",
    "\n",
    "train_dicts = df_cleaned[categorical] \\\n",
    "                .to_dict(orient='records') \\\n",
    "                .copy()\n",
    "\n",
    "dv = DictVectorizer()\n",
    "X_train = dv.fit_transform(train_dicts)\n",
    "\n",
    "target = 'duration'\n",
    "y_train = df_cleaned[target].values"
   ]
  },
  {
   "cell_type": "code",
   "execution_count": 8,
   "id": "5fc3f9a2-73ee-43fa-9f01-84f18bdc4182",
   "metadata": {},
   "outputs": [
    {
     "data": {
      "text/plain": [
       "<2421440x515 sparse matrix of type '<class 'numpy.float64'>'\n",
       "\twith 4842880 stored elements in Compressed Sparse Row format>"
      ]
     },
     "execution_count": 8,
     "metadata": {},
     "output_type": "execute_result"
    }
   ],
   "source": [
    "X_train"
   ]
  },
  {
   "cell_type": "markdown",
   "id": "1cff32df-29bd-405a-9593-8ad3507621bc",
   "metadata": {},
   "source": [
    "A: 515"
   ]
  },
  {
   "cell_type": "markdown",
   "id": "2d5656d4-7198-40a1-8e81-dccf1c1635f8",
   "metadata": {},
   "source": [
    "## Q5. Training a model\n",
    "----\n",
    "Now let's use the feature matrix from the previous step to train a model.\n",
    "\n",
    "Train a plain linear regression model with default parameters\n",
    "Calculate the RMSE of the model on the training data\n",
    "What's the RMSE on train?\n",
    "\n",
    "* 6.99\n",
    "* 11.99\n",
    "* 16.99\n",
    "* 21.99"
   ]
  },
  {
   "cell_type": "code",
   "execution_count": 9,
   "id": "ee959ae1-80a4-44ea-959f-e223c7746ea8",
   "metadata": {},
   "outputs": [
    {
     "data": {
      "text/plain": [
       "6.986190135964814"
      ]
     },
     "execution_count": 9,
     "metadata": {},
     "output_type": "execute_result"
    }
   ],
   "source": [
    "lr = LinearRegression()\n",
    "lr.fit(X_train, y_train)\n",
    "\n",
    "y_pred = lr.predict(X_train)\n",
    "\n",
    "mean_squared_error(y_train, y_pred, squared=False)"
   ]
  },
  {
   "cell_type": "markdown",
   "id": "f54a3c19-c88e-4477-a27a-4eafe34fe569",
   "metadata": {},
   "source": [
    "A: 6.99"
   ]
  },
  {
   "cell_type": "markdown",
   "id": "af93911a-3e45-4d5d-8108-4e3903f5e9af",
   "metadata": {},
   "source": [
    "## Q6. Evaluating the model\n",
    "----\n",
    "Now let's apply this model to the validation dataset (February 2022).\n",
    "\n",
    "What's the RMSE on validation?\n",
    "\n",
    "* 7.79\n",
    "* 12.79\n",
    "* 17.79\n",
    "* 22.79"
   ]
  },
  {
   "cell_type": "code",
   "execution_count": 10,
   "id": "f988376c-e733-4b33-bbdf-2cad911e821f",
   "metadata": {},
   "outputs": [],
   "source": [
    "data_val = pd.read_parquet('./data/yellow_tripdata_2022-02.parquet')"
   ]
  },
  {
   "cell_type": "code",
   "execution_count": 11,
   "id": "c4601d88-f3d8-4ed0-b73f-2659b5e451c7",
   "metadata": {},
   "outputs": [],
   "source": [
    "df_val_cleaned = clean_outliers(tweak_data(data_val))"
   ]
  },
  {
   "cell_type": "code",
   "execution_count": 12,
   "id": "1ae286a6-a49d-4b47-ae59-3e6251d56c17",
   "metadata": {},
   "outputs": [
    {
     "data": {
      "text/plain": [
       "7.786389260883266"
      ]
     },
     "execution_count": 12,
     "metadata": {},
     "output_type": "execute_result"
    }
   ],
   "source": [
    "categorical = ['PULocationID', 'DOLocationID']\n",
    "\n",
    "df_val_cleaned = df_val_cleaned \\\n",
    "                .astype({'PULocationID': 'str', 'DOLocationID': 'str'}) \\\n",
    "                .copy()\n",
    "\n",
    "val_dicts = df_val_cleaned[categorical] \\\n",
    "                .to_dict(orient='records') \\\n",
    "                .copy()\n",
    "\n",
    "X_val = dv.transform(val_dicts)\n",
    "\n",
    "target = 'duration'\n",
    "y_val = df_val_cleaned[target].values\n",
    "\n",
    "y_pred = lr.predict(X_val)\n",
    "\n",
    "mean_squared_error(y_val, y_pred, squared=False)"
   ]
  },
  {
   "cell_type": "markdown",
   "id": "82b18a26-0ae5-4886-9e78-825f81f04879",
   "metadata": {},
   "source": [
    "A: 7.79"
   ]
  }
 ],
 "metadata": {
  "kernelspec": {
   "display_name": "ml-zoomcamp",
   "language": "python",
   "name": "ml-zoomcamp"
  },
  "language_info": {
   "codemirror_mode": {
    "name": "ipython",
    "version": 3
   },
   "file_extension": ".py",
   "mimetype": "text/x-python",
   "name": "python",
   "nbconvert_exporter": "python",
   "pygments_lexer": "ipython3",
   "version": "3.9.7"
  }
 },
 "nbformat": 4,
 "nbformat_minor": 5
}
